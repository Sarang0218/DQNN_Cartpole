{
 "cells": [
  {
   "cell_type": "code",
   "execution_count": 1,
   "id": "77c27211",
   "metadata": {},
   "outputs": [
    {
     "name": "stdout",
     "output_type": "stream",
     "text": [
      "Requirement already satisfied: gymnasium in /Users/sarangpark/anaconda3/lib/python3.11/site-packages (0.29.1)\n",
      "Requirement already satisfied: numpy>=1.21.0 in /Users/sarangpark/anaconda3/lib/python3.11/site-packages (from gymnasium) (1.24.3)\n",
      "Requirement already satisfied: cloudpickle>=1.2.0 in /Users/sarangpark/anaconda3/lib/python3.11/site-packages (from gymnasium) (2.2.1)\n",
      "Requirement already satisfied: typing-extensions>=4.3.0 in /Users/sarangpark/anaconda3/lib/python3.11/site-packages (from gymnasium) (4.7.1)\n",
      "Requirement already satisfied: farama-notifications>=0.0.1 in /Users/sarangpark/anaconda3/lib/python3.11/site-packages (from gymnasium) (0.0.4)\n",
      "Note: you may need to restart the kernel to use updated packages.\n"
     ]
    }
   ],
   "source": [
    "pip install gymnasium"
   ]
  },
  {
   "cell_type": "code",
   "execution_count": 2,
   "id": "305e40ef",
   "metadata": {},
   "outputs": [],
   "source": [
    "import gymnasium as gym\n",
    "import math\n",
    "import random\n",
    "import matplotlib\n",
    "import matplotlib.pyplot as plt\n",
    "from collections import namedtuple, deque\n",
    "from itertools import count\n",
    "\n",
    "import torch\n",
    "import torch.nn as nn\n",
    "import torch.optim as optim\n",
    "import torch.nn.functional as F\n",
    "\n",
    "env = gym.make(\"CartPole-v1\")\n",
    "\n",
    "# set up matplotlib\n",
    "is_ipython = 'inline' in matplotlib.get_backend()\n",
    "if is_ipython:\n",
    "    from IPython import display\n",
    "\n",
    "plt.ion()\n",
    "\n",
    "# if GPU is to be used\n",
    "device = torch.device(\"mps\") if torch.backends.mps.is_available() else \"cpu\""
   ]
  },
  {
   "cell_type": "code",
   "execution_count": 3,
   "id": "37bf8f8e",
   "metadata": {},
   "outputs": [],
   "source": [
    "Transition = namedtuple('Transition',\n",
    "                        ('state', 'action', 'next_state', 'reward'))\n",
    "\n",
    "\n",
    "class ReplayMemory(object):\n",
    "\n",
    "    def __init__(self, capacity)\n",
    "        self.memory = deque([], maxlen=capacity)\n",
    "\n",
    "    def push(self, *args):\n",
    "        self.memory.append(Transition(*args))\n",
    "\n",
    "    def sample(self, batch_size):\n",
    "        return random.sample(self.memory, batch_size)\n",
    "\n",
    "    def __len__(self):\n",
    "        return len(self.memory)"
   ]
  },
  {
   "cell_type": "code",
   "execution_count": 4,
   "id": "f9a85850",
   "metadata": {},
   "outputs": [],
   "source": [
    "class DQNN(nn.Module):\n",
    "\n",
    "    def __init__(self, n_observations, n_actions):\n",
    "        super(DQNN, self).__init__()\n",
    "        self.layer1 = nn.Linear(n_observations, 128)\n",
    "        self.layer2 = nn.Linear(128, 128)\n",
    "        self.layer3 = nn.Linear(128, n_actions)\n",
    "\n",
    "\n",
    "    def forward(self, x):\n",
    "        x = F.relu(self.layer1(x))\n",
    "        x = F.relu(self.layer2(x))\n",
    "        return self.layer3(x)"
   ]
  },
  {
   "cell_type": "code",
   "execution_count": 5,
   "id": "6150fd76",
   "metadata": {},
   "outputs": [],
   "source": [
    "BATCH_SIZE = 128\n",
    "GAMMA = 0.99\n",
    "\n",
    "EPS_START = 0.9\n",
    "EPS_END = 0.05\n",
    "EPS_DECAY = 1000\n",
    "\n",
    "\n",
    "TAU = 0.006\n",
    "lr = 0.2 * 1e-3\n",
    "\n",
    "n_actions = env.action_space.n\n",
    "state, info = env.reset()\n",
    "n_observations = len(state)\n",
    "\n",
    "policy_net = DQNN(n_observations, n_actions).to(device)\n",
    "target_net = DQNN(n_observations, n_actions).to(device)\n",
    "target_net.load_state_dict(policy_net.state_dict())\n",
    "\n",
    "optimizer = optim.AdamW(policy_net.parameters(), lr=lr, amsgrad=True)\n",
    "memory = ReplayMemory(10000)\n",
    "\n",
    "\n",
    "steps_done = 0\n",
    "\n",
    "\n",
    "def select_action(state):\n",
    "    global steps_done\n",
    "    sample = random.random()\n",
    "    eps_threshold = EPS_END + (EPS_START - EPS_END) * \\\n",
    "        math.exp(-1. * steps_done / EPS_DECAY)\n",
    "    steps_done += 1\n",
    "    if sample > eps_threshold:\n",
    "        with torch.no_grad():\n",
    "            return policy_net(state).max(1)[1].view(1, 1)\n",
    "    else:\n",
    "        return torch.tensor([[env.action_space.sample()]], device=device, dtype=torch.long)\n",
    "\n",
    "\n",
    "episode_durations = []\n",
    "\n",
    "\n",
    "def plot_durations(show_result=False):\n",
    "    plt.figure(1)\n",
    "    durations_t = torch.tensor(episode_durations, dtype=torch.float)\n",
    "    if show_result:\n",
    "        plt.title('Result')\n",
    "    else:\n",
    "        plt.clf()\n",
    "        plt.title('Training...')\n",
    "    plt.xlabel('Episode')\n",
    "    plt.ylabel('Duration')\n",
    "    plt.plot(durations_t.numpy())\n",
    "    # 100개의 에피소드 평균을 가져 와서 도표 그리기\n",
    "    if len(durations_t) >= 100:\n",
    "        means = durations_t.unfold(0, 100, 1).mean(1).view(-1)\n",
    "        means = torch.cat((torch.zeros(99), means))\n",
    "        plt.plot(means.numpy())\n",
    "\n",
    "    plt.pause(0.001)  # 도표가 업데이트되도록 잠시 멈춤\n",
    "    if is_ipython:\n",
    "        if not show_result:\n",
    "            display.display(plt.gcf())\n",
    "            display.clear_output(wait=True)\n",
    "        else:\n",
    "            display.display(plt.gcf())"
   ]
  },
  {
   "cell_type": "code",
   "execution_count": 6,
   "id": "e402eb7a",
   "metadata": {},
   "outputs": [],
   "source": [
    "def optimize_model():\n",
    "    if len(memory) < BATCH_SIZE:\n",
    "        return\n",
    "    transitions = memory.sample(BATCH_SIZE)\n",
    "\n",
    "    batch = Transition(*zip(*transitions))\n",
    "\n",
    "    non_final_mask = torch.tensor(tuple(map(lambda s: s is not None,\n",
    "                                          batch.next_state)), device=device, dtype=torch.bool)\n",
    "    non_final_next_states = torch.cat([s for s in batch.next_state\n",
    "                                                if s is not None])\n",
    "    state_batch = torch.cat(batch.state)\n",
    "    action_batch = torch.cat(batch.action)\n",
    "    reward_batch = torch.cat(batch.reward)\n",
    "\n",
    "    state_action_values = policy_net(state_batch).gather(1, action_batch)\n",
    "\n",
    "    next_state_values = torch.zeros(BATCH_SIZE, device=device)\n",
    "    with torch.no_grad():\n",
    "        next_state_values[non_final_mask] = target_net(non_final_next_states).max(1)[0]\n",
    "\n",
    "    expected_state_action_values = (next_state_values * GAMMA) + reward_batch\n",
    "\n",
    "    criterion = nn.SmoothL1Loss()\n",
    "    loss = criterion(state_action_values, expected_state_action_values.unsqueeze(1))\n",
    "\n",
    "    optimizer.zero_grad()\n",
    "    loss.backward()\n",
    "\n",
    "    torch.nn.utils.clip_grad_value_(policy_net.parameters(), 100)\n",
    "    optimizer.step()"
   ]
  },
  {
   "cell_type": "code",
   "execution_count": 7,
   "id": "2b90e9ec",
   "metadata": {},
   "outputs": [
    {
     "data": {
      "text/plain": [
       "device(type='mps')"
      ]
     },
     "execution_count": 7,
     "metadata": {},
     "output_type": "execute_result"
    }
   ],
   "source": [
    "device"
   ]
  },
  {
   "cell_type": "code",
   "execution_count": 20,
   "id": "6713c503",
   "metadata": {},
   "outputs": [
    {
     "name": "stdout",
     "output_type": "stream",
     "text": [
      "Complete\n"
     ]
    },
    {
     "data": {
      "image/png": "[encoded data removed]",
      "text/plain": [
       "<Figure size 640x480 with 1 Axes>"
      ]
     },
     "metadata": {},
     "output_type": "display_data"
    },
    {
     "data": {
      "text/plain": [
       "<Figure size 640x480 with 0 Axes>"
      ]
     },
     "metadata": {},
     "output_type": "display_data"
    },
    {
     "data": {
      "text/plain": [
       "<Figure size 640x480 with 0 Axes>"
      ]
     },
     "metadata": {},
     "output_type": "display_data"
    }
   ],
   "source": [
    "if torch.cuda.is_available() or torch.backends.mps.is_available():\n",
    "    num_episodes = 400\n",
    "else:\n",
    "    num_episodes = 50\n",
    "\n",
    "for i_episode in range(num_episodes)\n",
    "    # 환경과 상태 초기화\n",
    "    state, info = env.reset()\n",
    "    state = torch.tensor(state, dtype=torch.float32, device=device).unsqueeze(0)\n",
    "    for t in count():\n",
    "        action = select_action(state)\n",
    "        observation, reward, terminated, truncated, _ = env.step(action.item())\n",
    "        reward = torch.tensor([reward], device=device)\n",
    "        done = terminated or truncated\n",
    "\n",
    "        if terminated:\n",
    "            next_state = None\n",
    "        else:\n",
    "            next_state = torch.tensor(observation, dtype=torch.float32, device=device).unsqueeze(0)\n",
    "\n",
    "        # 메모리에 변이 저장\n",
    "        memory.push(state, action, next_state, reward)\n",
    "\n",
    "        # 다음 상태로 이동\n",
    "        state = next_state\n",
    "\n",
    "        # (정책 네트워크에서) 최적화 한단계 수행\n",
    "        optimize_model()\n",
    "\n",
    "        # 목표 네트워크의 가중치를 소프트 업데이트\n",
    "        # θ′ ← τ θ + (1 −τ )θ′\n",
    "        target_net_state_dict = target_net.state_dict()\n",
    "        policy_net_state_dict = policy_net.state_dict()\n",
    "        for key in policy_net_state_dict:\n",
    "            target_net_state_dict[key] = policy_net_state_dict[key]*TAU + target_net_state_dict[key]*(1-TAU)\n",
    "        target_net.load_state_dict(target_net_state_dict)\n",
    "\n",
    "        if done:\n",
    "            episode_durations.append(t + 1)\n",
    "            plot_durations()\n",
    "            break\n",
    "\n",
    "print('Complete')\n",
    "plot_durations(show_result=True)\n",
    "plt.ioff()\n",
    "plt.show()"
   ]
  },
  {
   "cell_type": "code",
   "execution_count": 9,
   "id": "a785d584",
   "metadata": {},
   "outputs": [],
   "source": [
    "import os\n",
    "from gymnasium.wrappers import RecordVideo\n",
    "os.environ[\"DISPLAY\"] = f\":{display.display}\""
   ]
  },
  {
   "cell_type": "code",
   "execution_count": 10,
   "id": "6684153d",
   "metadata": {},
   "outputs": [
    {
     "name": "stdout",
     "output_type": "stream",
     "text": [
      "Requirement already satisfied: moviepy in /Users/sarangpark/anaconda3/lib/python3.11/site-packages (1.0.3)\n",
      "Requirement already satisfied: decorator<5.0,>=4.0.2 in /Users/sarangpark/anaconda3/lib/python3.11/site-packages (from moviepy) (4.4.2)\n",
      "Requirement already satisfied: tqdm<5.0,>=4.11.2 in /Users/sarangpark/anaconda3/lib/python3.11/site-packages (from moviepy) (4.65.0)\n",
      "Requirement already satisfied: requests<3.0,>=2.8.1 in /Users/sarangpark/anaconda3/lib/python3.11/site-packages (from moviepy) (2.31.0)\n",
      "Requirement already satisfied: proglog<=1.0.0 in /Users/sarangpark/anaconda3/lib/python3.11/site-packages (from moviepy) (0.1.10)\n",
      "Requirement already satisfied: numpy>=1.17.3 in /Users/sarangpark/anaconda3/lib/python3.11/site-packages (from moviepy) (1.24.3)\n",
      "Requirement already satisfied: imageio<3.0,>=2.5 in /Users/sarangpark/anaconda3/lib/python3.11/site-packages (from moviepy) (2.31.1)\n",
      "Requirement already satisfied: imageio-ffmpeg>=0.2.0 in /Users/sarangpark/anaconda3/lib/python3.11/site-packages (from moviepy) (0.4.8)\n",
      "Requirement already satisfied: pillow>=8.3.2 in /Users/sarangpark/anaconda3/lib/python3.11/site-packages (from imageio<3.0,>=2.5->moviepy) (9.4.0)\n",
      "Requirement already satisfied: charset-normalizer<4,>=2 in /Users/sarangpark/anaconda3/lib/python3.11/site-packages (from requests<3.0,>=2.8.1->moviepy) (2.0.4)\n",
      "Requirement already satisfied: idna<4,>=2.5 in /Users/sarangpark/anaconda3/lib/python3.11/site-packages (from requests<3.0,>=2.8.1->moviepy) (3.4)\n",
      "Requirement already satisfied: urllib3<3,>=1.21.1 in /Users/sarangpark/anaconda3/lib/python3.11/site-packages (from requests<3.0,>=2.8.1->moviepy) (1.26.16)\n",
      "Requirement already satisfied: certifi>=2017.4.17 in /Users/sarangpark/anaconda3/lib/python3.11/site-packages (from requests<3.0,>=2.8.1->moviepy) (2023.7.22)\n",
      "Note: you may need to restart the kernel to use updated packages.\n"
     ]
    }
   ],
   "source": [
    "pip install moviepy"
   ]
  },
  {
   "cell_type": "code",
   "execution_count": 11,
   "id": "c7b322e8",
   "metadata": {},
   "outputs": [
    {
     "name": "stdout",
     "output_type": "stream",
     "text": [
      "Requirement already satisfied: ffmpeg in /Users/sarangpark/anaconda3/lib/python3.11/site-packages (1.4)\n",
      "Note: you may need to restart the kernel to use updated packages.\n"
     ]
    }
   ],
   "source": [
    "pip install ffmpeg --upgrade"
   ]
  },
  {
   "cell_type": "code",
   "execution_count": 12,
   "id": "bf6f8b75",
   "metadata": {},
   "outputs": [
    {
     "name": "stdout",
     "output_type": "stream",
     "text": [
      "Requirement already satisfied: gymnasium[classic-control] in /Users/sarangpark/anaconda3/lib/python3.11/site-packages (0.29.1)\n",
      "Requirement already satisfied: numpy>=1.21.0 in /Users/sarangpark/anaconda3/lib/python3.11/site-packages (from gymnasium[classic-control]) (1.24.3)\n",
      "Requirement already satisfied: cloudpickle>=1.2.0 in /Users/sarangpark/anaconda3/lib/python3.11/site-packages (from gymnasium[classic-control]) (2.2.1)\n",
      "Requirement already satisfied: typing-extensions>=4.3.0 in /Users/sarangpark/anaconda3/lib/python3.11/site-packages (from gymnasium[classic-control]) (4.7.1)\n",
      "Requirement already satisfied: farama-notifications>=0.0.1 in /Users/sarangpark/anaconda3/lib/python3.11/site-packages (from gymnasium[classic-control]) (0.0.4)\n",
      "Requirement already satisfied: pygame>=2.1.3 in /Users/sarangpark/anaconda3/lib/python3.11/site-packages (from gymnasium[classic-control]) (2.5.1)\n",
      "Note: you may need to restart the kernel to use updated packages.\n"
     ]
    }
   ],
   "source": [
    "pip install 'gymnasium[classic-control]'"
   ]
  },
  {
   "cell_type": "code",
   "execution_count": 13,
   "id": "204d880f",
   "metadata": {},
   "outputs": [
    {
     "name": "stderr",
     "output_type": "stream",
     "text": [
      "/Users/sarangpark/anaconda3/lib/python3.11/site-packages/gymnasium/wrappers/record_video.py:94: UserWarning: \u001b[33mWARN: Overwriting existing videos at /Users/sarangpark/Documents/AIIIIIIII_s/mp4 folder (try specifying a different `video_folder` for the `RecordVideo` wrapper if this is not desired)\u001b[0m\n",
      "  logger.warn(\n"
     ]
    },
    {
     "name": "stdout",
     "output_type": "stream",
     "text": [
      "Moviepy - Building video /Users/sarangpark/Documents/AIIIIIIII_s/mp4/rl-video-episode-0.mp4.\n",
      "Moviepy - Writing video /Users/sarangpark/Documents/AIIIIIIII_s/mp4/rl-video-episode-0.mp4\n",
      "\n"
     ]
    },
    {
     "name": "stderr",
     "output_type": "stream",
     "text": [
      "                                                                                                                                                                                                                                                     \r"
     ]
    },
    {
     "name": "stdout",
     "output_type": "stream",
     "text": [
      "Moviepy - Done !\n",
      "Moviepy - video ready /Users/sarangpark/Documents/AIIIIIIII_s/mp4/rl-video-episode-0.mp4\n",
      "Episode finished after 500 timesteps\n"
     ]
    }
   ],
   "source": [
    "env = RecordVideo(gym.make(\"CartPole-v1\",render_mode='rgb_array'), \"./mp4\")\n",
    "env.reset()\n",
    "\n",
    "state, info = env.reset()\n",
    "state = torch.tensor(state, dtype=torch.float32, device=device).unsqueeze(0)\n",
    "for t in count():\n",
    "            env.render()\n",
    "            action = select_action(state)\n",
    "            observation, reward, terminated, truncated, _ = env.step(action.item())\n",
    "            reward = torch.tensor([reward], device=device)\n",
    "            done = terminated or truncated\n",
    "\n",
    "            if terminated:\n",
    "                next_state = None\n",
    "            else:\n",
    "                next_state = torch.tensor(observation, dtype=torch.float32, device=device).unsqueeze(0)\n",
    "\n",
    "            # 다음 상태로 이동\n",
    "            state = next_state\n",
    "\n",
    "            if done:\n",
    "                print(\"Episode finished after {} timesteps\".format(t+1))\n",
    "                env.close()\n",
    "                break"
   ]
  },
  {
   "cell_type": "code",
   "execution_count": 18,
   "id": "924262e7",
   "metadata": {},
   "outputs": [],
   "source": [
    "po = policy_net.state_dict()"
   ]
  },
  {
   "cell_type": "code",
   "execution_count": 17,
   "id": "f3ae900c",
   "metadata": {},
   "outputs": [],
   "source": [
    "to = target_net.state_dict()"
   ]
  },
  {
   "cell_type": "code",
   "execution_count": 19,
   "id": "dd59ab37",
   "metadata": {},
   "outputs": [
    {
     "data": {
      "text/plain": [
       "OrderedDict([('layer1.weight',\n",
       "              tensor([[ 0.0210, -0.3447, -0.1318,  0.0429],\n",
       "                      [-0.3854, -0.4825,  0.6182,  0.3364],\n",
       "                      [ 0.3241, -0.1233, -0.4162,  0.1730],\n",
       "                      [ 0.1113,  0.2039,  0.7767,  0.1831],\n",
       "                      [ 0.4183,  0.2766, -0.1972,  0.1113],\n",
       "                      [-0.5284, -0.1839, -0.0456, -0.0508],\n",
       "                      [ 0.2027, -0.3218, -0.3942, -0.1104],\n",
       "                      [ 0.3817, -0.0491, -0.0856, -0.3445],\n",
       "                      [-0.3657, -0.0919,  0.4063,  0.2041],\n",
       "                      [ 0.3312,  0.3162,  0.5709,  0.1686],\n",
       "                      [-0.2450,  0.2858,  0.5758,  0.3396],\n",
       "                      [-0.0181,  0.0375, -0.6355,  0.1554],\n",
       "                      [-0.1244,  0.0875,  0.4514, -0.0653],\n",
       "                      [-0.2967,  0.2837,  0.6315,  0.0558],\n",
       "                      [ 0.1900, -0.0260, -0.2531,  0.1791],\n",
       "                      [ 0.5409,  0.3596,  0.0255,  0.1260],\n",
       "                      [-0.1449,  0.3285,  0.0887,  0.0752],\n",
       "                      [-0.0839, -0.0728,  0.5451,  0.2978],\n",
       "                      [ 0.1448, -0.3057, -0.4540,  0.0416],\n",
       "                      [ 0.0660,  0.0098,  0.1293,  0.1380],\n",
       "                      [-0.1107,  0.2671,  0.4401, -0.2328],\n",
       "                      [ 0.1847, -0.1209, -0.1847, -0.1248],\n",
       "                      [ 0.4071, -0.3912,  0.5433, -0.4299],\n",
       "                      [-0.2253,  0.0716,  0.4918, -0.1065],\n",
       "                      [ 0.2826,  0.0370,  0.0322, -0.1452],\n",
       "                      [-0.1476, -0.2790,  0.6393,  0.2743],\n",
       "                      [-0.0122,  0.0330, -0.2009,  0.2444],\n",
       "                      [ 0.1753, -0.0118, -0.0527,  0.0724],\n",
       "                      [ 0.3816,  0.2313, -0.2153, -0.3488],\n",
       "                      [-0.5293,  0.3652,  0.5851,  0.2835],\n",
       "                      [-0.4107,  0.0380,  0.2889, -0.4017],\n",
       "                      [-0.2242,  0.2073,  0.3157,  0.0995],\n",
       "                      [-0.2478, -0.3958, -0.5976, -0.2167],\n",
       "                      [-0.2479,  0.3245,  0.0055, -0.2846],\n",
       "                      [-0.4280,  0.0680,  0.5001,  0.1781],\n",
       "                      [-0.3130,  0.3927,  0.4453,  0.4476],\n",
       "                      [ 0.5514, -0.0076, -0.4826,  0.1314],\n",
       "                      [-0.3105,  0.3346, -0.2317, -0.1100],\n",
       "                      [ 0.1260,  0.1843,  0.1576,  0.1684],\n",
       "                      [ 0.1399,  0.1657, -0.2404, -0.0803],\n",
       "                      [ 0.3365, -0.0058, -0.1081, -0.0288],\n",
       "                      [ 0.1258,  0.4509,  0.4978,  0.1466],\n",
       "                      [ 0.2637,  0.0049,  0.2235,  0.2042],\n",
       "                      [ 0.1097,  0.1518,  0.1329,  0.0912],\n",
       "                      [-0.0642,  0.3693, -0.1552,  0.2090],\n",
       "                      [ 0.4694,  0.1967, -0.0477,  0.1304],\n",
       "                      [-0.0913,  0.2368,  0.7187, -0.1738],\n",
       "                      [ 0.4414, -0.0430, -0.0654, -0.1650],\n",
       "                      [-0.3475,  0.2781,  0.9763,  0.2940],\n",
       "                      [ 0.2940, -0.0107,  0.2633,  0.2004],\n",
       "                      [-0.1210,  0.0621,  0.1649, -0.0315],\n",
       "                      [ 0.0692, -0.4244, -0.8647, -0.3304],\n",
       "                      [-0.1104, -0.2319,  0.6275,  0.4310],\n",
       "                      [-0.1913,  0.0936,  0.4106, -0.2128],\n",
       "                      [ 0.2787,  0.2731,  0.3896, -0.0355],\n",
       "                      [-0.0243,  0.2501,  0.1297, -0.1539],\n",
       "                      [ 0.2000, -0.0992, -0.1329, -0.0093],\n",
       "                      [-0.2267,  0.1061, -1.1034, -0.1604],\n",
       "                      [ 0.4320, -0.2132, -0.0901, -0.1169],\n",
       "                      [-0.1334, -0.2835, -0.4702, -0.5380],\n",
       "                      [-0.1023,  0.1868, -0.3485,  0.2454],\n",
       "                      [ 0.3242, -0.0867,  0.8985,  0.3863],\n",
       "                      [ 0.3180, -0.1803,  0.3129, -0.2383],\n",
       "                      [-0.0712,  0.0622,  0.2025, -0.1286],\n",
       "                      [ 0.2539, -0.2560, -0.6709,  0.0246],\n",
       "                      [ 0.2846,  0.0952,  0.4364,  0.2154],\n",
       "                      [ 0.3910, -0.2789, -0.6713, -0.3070],\n",
       "                      [ 0.5046, -0.1887, -0.1588, -0.4162],\n",
       "                      [ 0.0279,  0.4314,  0.0490,  0.0966],\n",
       "                      [ 0.3160, -0.2915, -0.5538, -0.1691],\n",
       "                      [ 0.4206,  0.2975, -0.1125, -0.2800],\n",
       "                      [-0.2119, -0.1483, -0.0735,  0.4515],\n",
       "                      [ 0.3236, -0.0510,  0.2336,  0.1889],\n",
       "                      [ 0.3151,  0.4308, -0.0078,  0.3232],\n",
       "                      [ 0.2576, -0.3925, -0.1355,  0.2296],\n",
       "                      [ 0.4122, -0.2501, -0.4187,  0.1495],\n",
       "                      [ 0.3154,  0.4648, -0.3817,  0.3850],\n",
       "                      [-0.5245,  0.0174,  0.8755,  0.3808],\n",
       "                      [-0.1593,  0.4487,  0.4274,  0.3163],\n",
       "                      [-0.3684, -0.4054, -0.6193, -0.2130],\n",
       "                      [-0.6035, -0.1049,  0.1722,  0.3407],\n",
       "                      [-0.1480, -0.2758, -0.6888, -0.5278],\n",
       "                      [-0.0614, -0.1554, -0.1644,  0.0438],\n",
       "                      [ 0.0469, -0.1996,  0.0163,  0.1468],\n",
       "                      [-0.5564,  0.2700,  0.4547,  0.1986],\n",
       "                      [ 0.1980,  0.1721,  0.3777,  0.1251],\n",
       "                      [ 0.4192, -0.1672,  1.0275,  0.3889],\n",
       "                      [ 0.2821, -0.0429,  0.2351,  0.2742],\n",
       "                      [ 0.2296,  0.0101, -0.2268, -0.1029],\n",
       "                      [-0.1669,  0.3005, -0.2814,  0.0194],\n",
       "                      [ 0.2241,  0.4166, -0.2373,  0.1009],\n",
       "                      [-0.4153,  0.2275,  0.4133, -0.1819],\n",
       "                      [-0.0189, -0.1131,  0.1851,  0.0610],\n",
       "                      [-0.3671, -0.2934, -0.1910,  0.1953],\n",
       "                      [ 0.4404,  0.1773, -0.2570, -0.1018],\n",
       "                      [-0.0481, -0.4279, -0.6063,  0.0051],\n",
       "                      [ 0.2222, -0.1392,  0.3208,  0.0515],\n",
       "                      [ 0.1737, -0.0401, -0.1000, -0.2195],\n",
       "                      [ 0.2898, -0.3633, -0.6499, -0.2471],\n",
       "                      [ 0.0928, -0.0330, -0.0854, -0.0084],\n",
       "                      [ 0.4987, -0.4257, -0.0907, -0.2799],\n",
       "                      [-0.3984,  0.2426,  0.4200,  0.1949],\n",
       "                      [ 0.4512,  0.4093,  0.0880,  0.1600],\n",
       "                      [-0.4383,  0.0519, -0.0974, -0.3454],\n",
       "                      [-0.1287,  0.4182,  0.5061,  0.3183],\n",
       "                      [-0.5417, -0.0562, -0.4162, -0.0479],\n",
       "                      [ 0.2140,  0.4017,  0.9701,  0.4315],\n",
       "                      [-0.4099,  0.2456,  0.6379,  0.1983],\n",
       "                      [ 0.0687, -0.2013,  0.0667,  0.0422],\n",
       "                      [ 0.5901, -0.1742,  0.1711, -0.0726],\n",
       "                      [ 0.0359,  0.3720,  0.2642, -0.3639],\n",
       "                      [-0.6028, -0.4946, -0.1062,  0.3871],\n",
       "                      [-0.4496, -0.1933, -0.0671,  0.0091],\n",
       "                      [ 0.1879, -0.0638,  0.3909,  0.1755],\n",
       "                      [ 0.1746,  0.1419,  0.0038,  0.1631],\n",
       "                      [-0.1212,  0.0579, -0.2564, -0.0392],\n",
       "                      [-0.0676, -0.1675, -0.2138,  0.0195],\n",
       "                      [ 0.0013, -0.2906,  0.1967, -0.0173],\n",
       "                      [ 0.0330, -0.0442,  0.4548, -0.2281],\n",
       "                      [ 0.4540, -0.3324,  0.0467, -0.2516],\n",
       "                      [-0.0852, -0.1611,  0.2055, -0.0054],\n",
       "                      [-0.1388,  0.3673,  0.4328,  0.0326],\n",
       "                      [-0.0846, -0.1652, -0.2553, -0.1633],\n",
       "                      [-0.0621,  0.3671,  0.4870, -0.2306],\n",
       "                      [-0.0484, -0.2625, -1.0188, -0.3941],\n",
       "                      [ 0.0309,  0.3750,  0.3860, -0.1363],\n",
       "                      [ 0.2160, -0.1892, -0.3091, -0.0244],\n",
       "                      [-0.5261, -0.1418,  0.0693, -0.0060]], device='mps:0')),\n",
       "             ('layer1.bias',\n",
       "              tensor([ 0.3065, -0.2928,  0.5620, -0.3126,  0.6360,  0.4310,  0.6085, -0.0936,\n",
       "                      -0.3733,  0.0468, -0.2633,  0.3337,  0.4761,  0.4197,  0.6755, -0.2493,\n",
       "                       0.5834, -0.3318,  0.5410,  0.3963,  0.6498,  0.3855, -0.3573,  0.7154,\n",
       "                       0.6086, -0.3303,  0.5653,  0.7136, -0.1190,  0.2350,  0.1481,  0.6336,\n",
       "                       0.1466,  0.0334, -0.2055, -0.3413,  0.2082, -0.3682,  0.6546, -0.5621,\n",
       "                      -0.3502,  0.0990,  0.7331, -0.2624,  0.7059,  0.0112,  0.1636, -0.2421,\n",
       "                       0.1150, -0.2919,  0.3772, -0.3822, -0.4059, -0.0328,  0.6323,  0.4782,\n",
       "                       0.2917, -0.2282,  0.3379, -0.3091,  0.3697, -0.1212,  0.6515,  0.4256,\n",
       "                       0.3557,  0.5856,  0.0392,  0.2820, -0.4399, -0.4330, -0.3930, -0.3688,\n",
       "                      -0.4187,  0.3001,  0.2392,  0.6133,  0.4006, -0.0987, -0.1968,  0.3300,\n",
       "                      -0.4567, -0.1990,  0.6564,  0.4847,  0.0639, -0.4043,  0.0519, -0.4373,\n",
       "                      -0.1154, -0.4641,  0.0037,  0.4301,  0.6469,  0.3449,  0.2767, -0.2558,\n",
       "                       0.6672,  0.7140, -0.0181,  0.6614,  0.2011,  0.1859,  0.4975,  0.5816,\n",
       "                      -0.0776,  0.3580,  0.1005,  0.2290,  0.4239, -0.2948,  0.4441,  0.2087,\n",
       "                       0.3264, -0.5232,  0.6456,  0.4627,  0.6113,  0.6349,  0.4024,  0.3760,\n",
       "                       0.6594,  0.5405,  0.7119,  0.5192, -0.2315,  0.5118,  0.6672,  0.0073],\n",
       "                     device='mps:0')),\n",
       "             ('layer2.weight',\n",
       "              tensor([[ 0.1263,  0.0910,  0.1856,  ...,  0.0171,  0.2131,  0.1176],\n",
       "                      [-0.0098, -0.0754,  0.0524,  ..., -0.0504,  0.0192,  0.0173],\n",
       "                      [ 0.1692, -0.1006,  0.2214,  ...,  0.0739,  0.1899,  0.0429],\n",
       "                      ...,\n",
       "                      [ 0.0811, -0.1035,  0.0894,  ...,  0.1421,  0.2461,  0.0519],\n",
       "                      [ 0.1201,  0.1886,  0.0066,  ..., -0.1288, -0.0205, -0.1163],\n",
       "                      [ 0.0682, -0.1891,  0.1476,  ...,  0.1249,  0.2217,  0.1146]],\n",
       "                     device='mps:0')),\n",
       "             ('layer2.bias',\n",
       "              tensor([ 0.2298,  0.0584,  0.2717,  0.1563,  0.0528,  0.2237,  0.1210,  0.0043,\n",
       "                       0.2020,  0.0466,  0.2328,  0.1852, -0.1300,  0.0445,  0.2944,  0.1806,\n",
       "                       0.2490, -0.0227,  0.1671,  0.1306, -0.0643,  0.0477,  0.0244,  0.2323,\n",
       "                       0.0422,  0.2136,  0.0828,  0.2435,  0.0898, -0.0837, -0.0091,  0.1044,\n",
       "                      -0.0655,  0.0368, -0.0135,  0.0932, -0.0551,  0.0307, -0.0598,  0.2008,\n",
       "                       0.2690, -0.1461, -0.0680,  0.2706, -0.0106, -0.0518,  0.2332,  0.2213,\n",
       "                      -0.0424, -0.0261, -0.0761,  0.2171,  0.1902,  0.0941,  0.2760,  0.1059,\n",
       "                       0.1422,  0.0478,  0.2237,  0.1611,  0.1916,  0.1169, -0.0522,  0.0789,\n",
       "                       0.2820,  0.1063, -0.0006,  0.1775,  0.0026,  0.0028,  0.1813,  0.0411,\n",
       "                      -0.0288, -0.0014, -0.1546, -0.0923,  0.2551,  0.1539,  0.0251,  0.2002,\n",
       "                       0.1568,  0.0961,  0.2648,  0.2546,  0.2258,  0.2273, -0.0045,  0.1687,\n",
       "                      -0.0034, -0.0631,  0.0958,  0.0234,  0.1360, -0.0880,  0.1681, -0.0515,\n",
       "                      -0.0470, -0.0956,  0.1506,  0.0272,  0.1406,  0.0331,  0.1737,  0.1517,\n",
       "                       0.2969,  0.0536,  0.1214, -0.0046,  0.0643,  0.2639,  0.0212, -0.0003,\n",
       "                       0.2162,  0.1348,  0.0724, -0.0751,  0.2514, -0.0208,  0.0205,  0.0371,\n",
       "                       0.0193,  0.1651, -0.1016,  0.2311,  0.2496,  0.1371,  0.0463,  0.2249],\n",
       "                     device='mps:0')),\n",
       "             ('layer3.weight',\n",
       "              tensor([[ 1.5423e-01, -6.4780e-02,  2.7215e-01,  2.3849e-01, -6.8664e-03,\n",
       "                        7.6883e-02,  3.9008e-01, -1.0227e-01,  2.3782e-01, -3.0896e-02,\n",
       "                        1.5072e-01,  3.2546e-01, -3.1073e-01, -8.0260e-02,  2.7978e-01,\n",
       "                        2.3164e-01,  1.3044e-01, -1.6329e-02,  2.7143e-01,  2.7514e-01,\n",
       "                       -1.4668e-01, -3.7076e-01,  1.3781e-02,  2.4268e-01, -1.5855e-01,\n",
       "                        4.3673e-01,  4.1549e-01,  2.4549e-01, -4.2466e-01, -2.1974e-01,\n",
       "                        3.8727e-02,  2.6003e-01,  3.4896e-02,  2.9335e-02,  1.9326e-02,\n",
       "                        1.1481e-01, -1.5130e-01, -2.3818e-02, -6.1095e-04,  3.2041e-01,\n",
       "                        2.8950e-01, -7.6019e-01, -3.2551e-01,  2.1468e-01, -1.9525e-01,\n",
       "                        7.1001e-02,  3.1382e-01,  2.8031e-01,  4.9744e-02, -2.4721e-01,\n",
       "                       -4.3310e-01,  3.5459e-01,  2.6929e-01,  3.3131e-01,  1.9468e-01,\n",
       "                        3.6869e-01,  3.5450e-01, -1.4542e-01,  2.9536e-01,  2.5510e-01,\n",
       "                        2.7332e-01, -2.2066e-01,  3.6096e-02, -5.5779e-01,  3.2342e-01,\n",
       "                        2.3564e-01, -4.4034e-01,  3.1741e-01, -6.5519e-02, -1.3066e-02,\n",
       "                        3.0748e-01, -1.1079e-01, -2.4856e-02,  2.7348e-02, -4.0531e-01,\n",
       "                        9.1399e-02,  2.2905e-01,  1.4712e-01,  7.3458e-03,  2.4122e-01,\n",
       "                        3.2277e-01,  2.6926e-01,  2.3233e-01,  3.0378e-01,  1.7119e-01,\n",
       "                        3.4710e-01,  2.4686e-02,  2.1388e-01, -2.6495e-01, -1.0688e-01,\n",
       "                        3.0361e-01, -1.0329e-01,  3.4461e-01, -3.1728e-01,  2.8044e-01,\n",
       "                        1.3652e-02, -4.8050e-02, -4.4496e-01,  3.4440e-01, -5.0173e-02,\n",
       "                        2.6998e-01,  2.1302e-03,  3.1219e-01,  2.9110e-01,  1.8464e-01,\n",
       "                        1.8666e-01,  1.3759e-01, -3.1300e-01, -1.7184e-02,  3.0048e-01,\n",
       "                       -5.2896e-01, -2.1905e-01,  2.4428e-01,  3.4101e-01,  3.2920e-01,\n",
       "                        2.5121e-01,  1.7688e-01, -2.9313e-02, -2.3478e-01, -6.0486e-02,\n",
       "                        1.0728e-02,  2.5439e-01, -4.0302e-02,  2.3500e-01,  3.7924e-01,\n",
       "                        3.0625e-01, -3.0026e-01,  3.1464e-01],\n",
       "                      [ 3.1320e-01, -3.8724e-02,  2.7425e-01,  2.1951e-01, -5.5151e-02,\n",
       "                        2.3847e-01,  3.5709e-01, -3.3181e-01,  2.7117e-01,  7.1134e-04,\n",
       "                        2.9087e-01,  2.9789e-01, -1.6458e-01, -6.2848e-02,  2.5057e-01,\n",
       "                        1.6466e-01,  2.8097e-01,  2.0128e-02,  2.6100e-01,  2.4357e-01,\n",
       "                       -3.8306e-01, -3.6331e-01,  6.4738e-02,  2.8383e-01, -2.6505e-01,\n",
       "                        2.2098e-01,  3.7041e-01,  1.8327e-01, -3.4743e-01, -2.7414e-01,\n",
       "                        3.5166e-02,  2.5349e-01,  3.7352e-03, -3.4143e-02, -2.1116e-01,\n",
       "                       -7.0763e-02, -4.4246e-01, -6.5410e-02,  6.9003e-03,  2.7417e-01,\n",
       "                        2.3796e-01, -6.5604e-01, -4.1774e-01,  3.1581e-01, -3.9533e-01,\n",
       "                       -3.8323e-02,  2.5405e-01,  2.6381e-01, -5.6752e-02,  1.3841e-01,\n",
       "                       -7.3327e-01,  3.2947e-01,  2.4199e-01,  3.1195e-01,  3.0147e-01,\n",
       "                        3.2162e-01,  2.3529e-01, -6.7440e-02,  2.0453e-01,  2.7398e-01,\n",
       "                        2.3474e-01,  3.4093e-01,  6.4911e-02, -2.9683e-01,  2.8396e-01,\n",
       "                        1.9408e-01, -5.0208e-01,  2.4842e-01,  1.4094e-01,  9.4689e-04,\n",
       "                        2.8352e-01, -1.5529e-01, -4.6947e-02,  1.0205e-02, -5.9613e-01,\n",
       "                       -3.9782e-01,  2.7151e-01,  2.9730e-01, -4.7339e-01,  2.1930e-01,\n",
       "                        2.1631e-01,  2.6475e-01,  2.9647e-01,  2.7125e-01,  2.9979e-01,\n",
       "                        3.3763e-01, -4.5867e-02,  2.6928e-01, -4.7222e-02, -2.0270e-01,\n",
       "                        2.1613e-01,  7.3558e-02,  3.3169e-01, -6.1124e-01,  2.1463e-01,\n",
       "                       -6.8348e-02, -2.3254e-02, -9.0059e-02,  3.4927e-01,  1.6801e-02,\n",
       "                        2.4765e-01, -3.0311e-02,  1.7514e-01,  3.0573e-01,  2.5813e-01,\n",
       "                       -4.1414e-01,  3.0458e-01,  4.7430e-02,  2.1058e-01,  2.7240e-01,\n",
       "                       -4.6793e-01, -2.8304e-01,  3.3250e-01,  2.3938e-01,  2.8702e-01,\n",
       "                       -2.7821e-01,  3.2399e-01,  8.5093e-03, -4.0195e-01, -1.6289e-01,\n",
       "                        7.1802e-02,  3.0758e-01, -2.1556e-01,  2.5385e-01,  3.5178e-01,\n",
       "                        1.9281e-01, -1.3360e-02,  2.3429e-01]], device='mps:0')),\n",
       "             ('layer3.bias', tensor([0.0496, 0.0621], device='mps:0'))])"
      ]
     },
     "execution_count": 19,
     "metadata": {},
     "output_type": "execute_result"
    }
   ],
   "source": [
    "po"
   ]
  },
  {
   "cell_type": "code",
   "execution_count": null,
   "id": "7964452a",
   "metadata": {},
   "outputs": [],
   "source": []
  },
  {
   "cell_type": "code",
   "execution_count": null,
   "id": "9c5b25f2",
   "metadata": {},
   "outputs": [],
   "source": []
  }
 ],
 "metadata": {
  "kernelspec": {
   "display_name": "Python 3 (ipykernel)",
   "language": "python",
   "name": "python3"
  },
  "language_info": {
   "codemirror_mode": {
    "name": "ipython",
    "version": 3
   },
   "file_extension": ".py",
   "mimetype": "text/x-python",
   "name": "python",
   "nbconvert_exporter": "python",
   "pygments_lexer": "ipython3",
   "version": "3.11.4"
  }
 },
 "nbformat": 4,
 "nbformat_minor": 5
}
